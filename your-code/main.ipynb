{
 "cells": [
  {
   "cell_type": "markdown",
   "metadata": {},
   "source": [
    "# Before your start:\n",
    "\n",
    "    Read the README.md file\n",
    "    Comment as much as you can and use the resources (README.md file)\n",
    "    Happy learning!\n",
    "\n",
    "*Notes:* \n",
    "\n",
    "- Solve the questions with python.\n",
    "\n",
    "- Round the final answer to three decimal places."
   ]
  },
  {
   "cell_type": "code",
   "execution_count": 26,
   "metadata": {},
   "outputs": [],
   "source": [
    "from scipy import stats\n",
    "import numpy as np\n",
    "import matplotlib.pyplot as plt\n",
    "import math"
   ]
  },
  {
   "cell_type": "markdown",
   "metadata": {},
   "source": [
    "## Bernoulli's Distribution\n",
    "\n",
    "In a basket containing 100 fruits, there are 60 apples and 40 oranges. \n",
    "\n",
    "A fruit is picked randomly from the basket. \n",
    "\n",
    "1. **What is the probability that the fruit is apple?**\n",
    "1. **What is the probability that it is an orange?**"
   ]
  },
  {
   "cell_type": "code",
   "execution_count": 1,
   "metadata": {},
   "outputs": [
    {
     "name": "stdout",
     "output_type": "stream",
     "text": [
      "Probability of picking an apple (p): 0.6\n",
      "Probability of picking an orange (q): 0.4\n"
     ]
    }
   ],
   "source": [
    "# Total number of fruits\n",
    "total_fruits = 100\n",
    "\n",
    "# Number of each type of fruit\n",
    "number_of_apples = 60\n",
    "number_of_oranges = 40\n",
    "\n",
    "# Calculate probabilities\n",
    "p = number_of_apples / total_fruits  # Probability of an apple\n",
    "q = number_of_oranges / total_fruits  # Probability of an orange\n",
    "\n",
    "# Round results to three decimal places\n",
    "p = round(p, 3)\n",
    "q = round(q, 3)\n",
    "\n",
    "# Print the probabilities\n",
    "print(f\"Probability of picking an apple (p): {p}\")\n",
    "print(f\"Probability of picking an orange (q): {q}\")"
   ]
  },
  {
   "cell_type": "markdown",
   "metadata": {},
   "source": [
    "Now we take a random sample of 20 fruits from the basket. After each fruit is taken, a new fruit of the same type is replaced in the basket. Therefore, every time we are taking 1 fruit from 100 fruits. \n",
    "\n",
    "1. **What is the probability that the first 5 fruits are all apples?**\n",
    "\n",
    "1. **What is the probability that the first 5 fruits are all apples and the next 15 fruits are all oranges?**\n",
    "\n",
    "You can include the `p` and `q` probabilities you previous calculated in your solution."
   ]
  },
  {
   "cell_type": "code",
   "execution_count": 6,
   "metadata": {},
   "outputs": [
    {
     "name": "stdout",
     "output_type": "stream",
     "text": [
      "Probability that the first 5 fruits are all apples: 0.078\n",
      "Probability that the first 5 fruits are all apples and the next 15 are all oranges: 0.0\n"
     ]
    }
   ],
   "source": [
    "# What is the probability that the first 5 fruits are all apples?\n",
    "\n",
    "# Given probabilities\n",
    "p = 0.6  # Probability of picking an apple\n",
    "\n",
    "# Calculate the probability of picking 5 apples in a row\n",
    "prob_five_apples = p**5\n",
    "\n",
    "# Round to three decimal places\n",
    "prob_five_apples_rounded = round(prob_five_apples, 3)\n",
    "\n",
    "print(f\"Probability that the first 5 fruits are all apples: {prob_five_apples_rounded}\")\n",
    "\n",
    "# Given probabilities\n",
    "q = 0.4  # Probability of picking an orange\n",
    "\n",
    "# Calculate the probability of picking 5 apples and then 15 oranges\n",
    "prob_five_apples_fifteen_oranges = (p**5) * (q**15)\n",
    "\n",
    "# Round to three decimal places\n",
    "prob_combined_rounded = round(prob_five_apples_fifteen_oranges, 3)\n",
    "\n",
    "print(f\"Probability that the first 5 fruits are all apples and the next 15 are all oranges: {prob_combined_rounded}\")"
   ]
  },
  {
   "cell_type": "markdown",
   "metadata": {},
   "source": [
    "## Binomial Distribution\n",
    "\n",
    "Similar to the above problem, this time again we randomly sample 20 fruits.\n",
    "\n",
    "**What is the probability that this time the sample contains 5 apples and 15 oranges?**\n",
    "\n",
    "Please note that this time the order of the fruits being picked does not matter."
   ]
  },
  {
   "cell_type": "code",
   "execution_count": 9,
   "metadata": {},
   "outputs": [
    {
     "name": "stdout",
     "output_type": "stream",
     "text": [
      "Probability of getting exactly 5 apples in 20 draws: 0.001\n"
     ]
    }
   ],
   "source": [
    "# your solution her\n",
    "\n",
    "from math import comb\n",
    "\n",
    "# Parameters\n",
    "n = 20  # Total number of trials\n",
    "k = 5   # Number of successful trials (apples)\n",
    "p = 0.6  # Probability of picking an apple\n",
    "\n",
    "# Binomial probability calculation\n",
    "prob_five_apples = comb(n, k) * (p**k) * ((1-p)**(n-k))\n",
    "\n",
    "# Round to three decimal places\n",
    "prob_five_apples_rounded = round(prob_five_apples, 3)\n",
    "\n",
    "print(f\"Probability of getting exactly 5 apples in 20 draws: {prob_five_apples_rounded}\")"
   ]
  },
  {
   "cell_type": "code",
   "execution_count": 8,
   "metadata": {},
   "outputs": [],
   "source": [
    "# your solution here"
   ]
  },
  {
   "cell_type": "markdown",
   "metadata": {},
   "source": [
    "In the lesson we also discussed CDF (cumulative distribution function). In the context of the above problem, **what is the probability that less than 5 fruits picked are apples?**\n",
    "\n",
    "Write the formula and calculate the probability below."
   ]
  },
  {
   "cell_type": "code",
   "execution_count": 10,
   "metadata": {},
   "outputs": [
    {
     "name": "stdout",
     "output_type": "stream",
     "text": [
      "Probability of picking less than 5 apples in 20 draws: 0.0\n"
     ]
    }
   ],
   "source": [
    "from math import comb\n",
    "\n",
    "# Parameters\n",
    "n = 20  # Total number of trials\n",
    "p = 0.6 # Probability of picking an apple\n",
    "k = 5   # Less than 5 apples\n",
    "\n",
    "# Calculate the CDF for less than 5 apples\n",
    "prob_less_than_5_apples = sum(comb(n, i) * (p**i) * ((1-p)**(n-i)) for i in range(k))\n",
    "\n",
    "# Round to three decimal places\n",
    "prob_less_than_5_apples_rounded = round(prob_less_than_5_apples, 3)\n",
    "\n",
    "print(f\"Probability of picking less than 5 apples in 20 draws: {prob_less_than_5_apples_rounded}\")"
   ]
  },
  {
   "cell_type": "markdown",
   "metadata": {},
   "source": [
    "<!-- **Plot the PDF (probability distributiom function) for the above binomial distribution.** -->\n",
    "\n",
    "**Plot the Probability Mass Function (PMF) for the above binomial distribution.**\n",
    "\n",
    "*Hint: The range of x in a binomial distribution is from `0` to `n`.*"
   ]
  },
  {
   "cell_type": "code",
   "execution_count": null,
   "metadata": {},
   "outputs": [],
   "source": [
    "# your code here\n",
    "# Please label the axes and give a title to the plot"
   ]
  },
  {
   "cell_type": "markdown",
   "metadata": {},
   "source": [
    "## Poisson Distribution\n",
    "\n",
    "In this challenge you are required to use the Math library in python to solve the problems.\n",
    "\n",
    "In the UEFA champions league tournament, the average number of goals scored in a match is 2.3. \n",
    "\n",
    "**What is the probability that the number of goals scored in a match is 5?**\n",
    "\n",
    "*Hint: Use the exp() in the math library*\n",
    "\n",
    "And to calculate the factorial, you can use the following code:\n",
    "\n",
    "```python\n",
    "import math\n",
    "math.factorial(n) # n is the number you want to find the factorial of\n",
    "```"
   ]
  },
  {
   "cell_type": "code",
   "execution_count": 11,
   "metadata": {},
   "outputs": [
    {
     "name": "stdout",
     "output_type": "stream",
     "text": [
      "Probability of scoring exactly 5 goals: 0.054\n"
     ]
    }
   ],
   "source": [
    "# your code here\n",
    "\n",
    "import math\n",
    "\n",
    "# Parameters\n",
    "lambda_ = 2.3  # Average number of goals per match\n",
    "k = 5          # Number of goals to find the probability for\n",
    "\n",
    "# Poisson probability calculation\n",
    "probability_5_goals = (math.exp(-lambda_) * lambda_**k) / math.factorial(k)\n",
    "\n",
    "# Round to three decimal places\n",
    "probability_5_goals_rounded = round(probability_5_goals, 3)\n",
    "\n",
    "print(f\"Probability of scoring exactly 5 goals: {probability_5_goals_rounded}\")"
   ]
  },
  {
   "cell_type": "markdown",
   "metadata": {},
   "source": [
    "**Draw a poisson probability distribution plot for the number of goals to be between 0 to 10.**"
   ]
  },
  {
   "cell_type": "code",
   "execution_count": 12,
   "metadata": {},
   "outputs": [
    {
     "data": {
      "image/png": "[encoded data removed]",
      "text/plain": [
       "<Figure size 1000x600 with 1 Axes>"
      ]
     },
     "metadata": {},
     "output_type": "display_data"
    }
   ],
   "source": [
    "# your code here\n",
    "# Please label the axes and give a title to the plot\n",
    "\n",
    "\n",
    "import math\n",
    "import matplotlib.pyplot as plt\n",
    "\n",
    "# Set lambda\n",
    "lambda_ = 2.3  # Average number of goals per match\n",
    "\n",
    "# Goals range from 0 to 10\n",
    "goals = range(0, 11)\n",
    "\n",
    "# Calculate the Poisson probabilities\n",
    "probabilities = [(math.exp(-lambda_) * lambda_**k) / math.factorial(k) for k in goals]\n",
    "\n",
    "# Plotting\n",
    "plt.figure(figsize=(10, 6))\n",
    "plt.bar(goals, probabilities, color='skyblue', alpha=0.7)\n",
    "plt.title('Poisson Distribution for Number of Goals (λ=2.3)')\n",
    "plt.xlabel('Number of Goals')\n",
    "plt.ylabel('Probability')\n",
    "plt.xticks(goals)\n",
    "plt.grid(axis='y', linestyle='--', alpha=0.7)\n",
    "plt.show()"
   ]
  }
 ],
 "metadata": {
  "kernelspec": {
   "display_name": "myenv",
   "language": "python",
   "name": "python3"
  },
  "language_info": {
   "codemirror_mode": {
    "name": "ipython",
    "version": 3
   },
   "file_extension": ".py",
   "mimetype": "text/x-python",
   "name": "python",
   "nbconvert_exporter": "python",
   "pygments_lexer": "ipython3",
   "version": "3.13.5"
  }
 },
 "nbformat": 4,
 "nbformat_minor": 2
}
